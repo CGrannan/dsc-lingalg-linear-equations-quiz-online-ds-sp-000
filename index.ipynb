{
 "cells": [
  {
   "cell_type": "markdown",
   "metadata": {},
   "source": [
    "# Systems of Linear Equations - Lab\n",
    "\n",
    "## Introduction\n",
    "The following scenarios present problems that can be solved as a system of equations while performing substitutions and eliminations as you saw in the previous lesson.\n",
    "\n",
    "* Solve these problems by hand, showing all the steps to work out the unknown variable values \n",
    "* Verify your answers by showing the calculated values satisfy all equations\n",
    "\n",
    "## Objectives\n",
    "\n",
    "In this lab you will: \n",
    "\n",
    "- Solve a system of equations using elimination and substitution\n",
    "\n",
    "## Exercise 1\n",
    "Jane paid 12 dollars for 4 cups of coffee and 4 cups of tea. 3 cups of coffee cost as much as 2 cups of tea. What would be the total cost of 5 cups of coffee and 5 cups of tea?\n",
    "\n",
    "### Solution\n",
    "\n",
    "> Let $x$ be the unit price of coffee and $y$ be the unit price of tea"
   ]
  },
  {
   "cell_type": "code",
   "execution_count": 1,
   "metadata": {},
   "outputs": [
    {
     "data": {
      "text/plain": [
       "\"\\n12 = 4x + 4y\\n3x = 2y\\n\\nWe can substitute x's for y's in the first equation by multilpying the second equation by 2.\\n6x = 4y\\n\\n12 = 4x + 6x\\n12 = 10x\\nx = 1.2\\n\\nNow we can solve for y by plugging in our x value.\\n\\n3(1.2) = 2y\\n3.6 = 2y\\n1.8 = y\\n\\nNow we can find the cost of 5 cups of tea and 5 cups of sugar.\\n5(1.2) + 5(1.8) = 15\\n\""
      ]
     },
     "execution_count": 1,
     "metadata": {},
     "output_type": "execute_result"
    }
   ],
   "source": [
    "\"\"\"\n",
    "12 = 4x + 4y\n",
    "3x = 2y\n",
    "\n",
    "We can substitute x's for y's in the first equation by multilpying the second equation by 2.\n",
    "6x = 4y\n",
    "\n",
    "12 = 4x + 6x\n",
    "12 = 10x\n",
    "x = 1.2\n",
    "\n",
    "Now we can solve for y by plugging in our x value.\n",
    "\n",
    "3(1.2) = 2y\n",
    "3.6 = 2y\n",
    "1.8 = y\n",
    "\n",
    "Now we can find the cost of 5 cups of tea and 5 cups of sugar.\n",
    "5(1.2) + 5(1.8) = 15\n",
    "\"\"\""
   ]
  },
  {
   "cell_type": "markdown",
   "metadata": {},
   "source": [
    "## Exercise 2\n",
    "\n",
    "Jim has more money than Bob. If Jim gave Bob 20 dollars, they would have the same amount. If Bob gave Jim 22 dollars, however, Jim would then have twice as much as Bob. \n",
    "\n",
    "How much does each one actually have?\n",
    "\n",
    "### Solution\n",
    "> Let x be the amount of money that Jim has and y be the amount that Bob has "
   ]
  },
  {
   "cell_type": "code",
   "execution_count": 2,
   "metadata": {},
   "outputs": [
    {
     "data": {
      "text/plain": [
       "'\\nx - 20 = y + 20\\nx + 22 = 2(y-22)\\nx + 22 = 2y - 44\\nx + 66 = 2y\\n\\nWe will multiply the first equation by two so that we can substitute in the second equation.\\n\\n2x - 40 = 2y + 40\\n2x - 40 = (x + 66) + 40\\n\\nx = 146\\n\\nNow we will find y.\\n146 - 20 = y + 20\\n\\n106 = y\\n\\nJim has $146 and Bob has $106.\\n'"
      ]
     },
     "execution_count": 2,
     "metadata": {},
     "output_type": "execute_result"
    }
   ],
   "source": [
    "\"\"\"\n",
    "x - 20 = y + 20\n",
    "x + 22 = 2(y-22)\n",
    "x + 22 = 2y - 44\n",
    "x + 66 = 2y\n",
    "\n",
    "We will multiply the first equation by two so that we can substitute in the second equation.\n",
    "\n",
    "2x - 40 = 2y + 40\n",
    "2x - 40 = (x + 66) + 40\n",
    "\n",
    "x = 146\n",
    "\n",
    "Now we will find y.\n",
    "146 - 20 = y + 20\n",
    "\n",
    "106 = y\n",
    "\n",
    "Jim has $146 and Bob has $106.\n",
    "\"\"\""
   ]
  },
  {
   "cell_type": "markdown",
   "metadata": {},
   "source": [
    "## Exercise 3\n",
    "\n",
    "Mia has 30 coins, consisting of quarters (25 cents) and dimes (10 cents), which totals to the amount 5.70 dollars.  \n",
    "How many of each does she have?\n",
    "\n",
    "### Solution\n",
    "\n",
    "> Let x be the number of quarters and y be the number of dimes "
   ]
  },
  {
   "cell_type": "code",
   "execution_count": 3,
   "metadata": {},
   "outputs": [
    {
     "data": {
      "text/plain": [
       "'\\n.25x + .1y = 5.70\\nx + y = 30\\n\\nWe will clean up the second equation and substitute it for y in the first equation.\\n\\ny = 30 - x\\n.25x + .1(30-x) = 5.7\\n.15x + 3 = 5.7\\n.15x = 2.7\\nx = 18\\n\\nNow we will solve for y.\\n18 + y = 30\\ny = 12\\n\\nMia has 18 quarters and 12 dimes.\\n'"
      ]
     },
     "execution_count": 3,
     "metadata": {},
     "output_type": "execute_result"
    }
   ],
   "source": [
    "\"\"\"\n",
    ".25x + .1y = 5.70\n",
    "x + y = 30\n",
    "\n",
    "We will clean up the second equation and substitute it for y in the first equation.\n",
    "\n",
    "y = 30 - x\n",
    ".25x + .1(30-x) = 5.7\n",
    ".15x + 3 = 5.7\n",
    ".15x = 2.7\n",
    "x = 18\n",
    "\n",
    "Now we will solve for y.\n",
    "18 + y = 30\n",
    "y = 12\n",
    "\n",
    "Mia has 18 quarters and 12 dimes.\n",
    "\"\"\"\n"
   ]
  },
  {
   "cell_type": "markdown",
   "metadata": {},
   "source": [
    "## Level up (Optional)\n",
    "For more practice with linear equations, visit the following links for more complex equations:\n",
    "\n",
    "* https://www.transum.org/software/SW/Starter_of_the_day/Students/Simultaneous_Equations.asp?Level=6\n",
    "* https://www.transum.org/software/SW/Starter_of_the_day/Students/Simultaneous_Equations.asp?Level=7\n",
    "\n",
    "## Summary\n",
    "\n",
    "In this lesson, you learned how to solve linear equations by hand to find the coefficient values. You'll now move forward to have a deeper look into vectors and matrices and how Python and NumPy can help us solve more complex equations in an analytical context. "
   ]
  }
 ],
 "metadata": {
  "kernelspec": {
   "display_name": "Python 3",
   "language": "python",
   "name": "python3"
  },
  "language_info": {
   "codemirror_mode": {
    "name": "ipython",
    "version": 3
   },
   "file_extension": ".py",
   "mimetype": "text/x-python",
   "name": "python",
   "nbconvert_exporter": "python",
   "pygments_lexer": "ipython3",
   "version": "3.6.6"
  }
 },
 "nbformat": 4,
 "nbformat_minor": 2
}
